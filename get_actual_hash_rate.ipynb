{
 "cells": [
  {
   "cell_type": "code",
   "execution_count": 19,
   "metadata": {},
   "outputs": [
    {
     "data": {
      "text/html": [
       "<script>requirejs.config({paths: { 'plotly': ['https://cdn.plot.ly/plotly-latest.min']},});if(!window.Plotly) {{require(['plotly'],function(plotly) {window.Plotly=plotly;});}}</script>"
      ],
      "text/vnd.plotly.v1+html": [
       "<script>requirejs.config({paths: { 'plotly': ['https://cdn.plot.ly/plotly-latest.min']},});if(!window.Plotly) {{require(['plotly'],function(plotly) {window.Plotly=plotly;});}}</script>"
      ]
     },
     "metadata": {},
     "output_type": "display_data"
    },
    {
     "name": "stdout",
     "output_type": "stream",
     "text": [
      "13743796381784\n"
     ]
    }
   ],
   "source": [
    "#!/usr/local/bin/python\n",
    "# -*- coding: utf-8 -*-\n",
    "# Copyright (c) 2017 Mikhail Shilov\n",
    "\n",
    "# Обеспечим совместимость с Python 2 и 3\n",
    "# pip install future\n",
    "from __future__ import (absolute_import, division,\n",
    "                        print_function, unicode_literals)\n",
    "\n",
    "# отключим предупреждения Anaconda\n",
    "import warnings\n",
    "warnings.simplefilter('ignore')\n",
    "\n",
    "# импортируем Pandas и Numpy\n",
    "import numpy as np\n",
    "import pandas as pd\n",
    "import requests\n",
    "\n",
    "import plotly.plotly as py\n",
    "from plotly import graph_objs as go\n",
    "from plotly.offline import download_plotlyjs, init_notebook_mode, plot, iplot\n",
    "\n",
    "init_notebook_mode(connected = True)\n",
    "\n",
    "#По умолчанию Pandas выводит всего 20 столбцов и 60 строк. Если нужно более ...\n",
    "pd.set_option('display.max_columns', 65)\n",
    "pd.set_option('display.max_rows', 65)\n",
    "\n",
    "url_get_hash_rate = 'http://chainz.cryptoid.info/dash/api.dws?q=nethashps1' # где брать актуальный хэшрейт\n",
    "\n",
    "# обновляем актуальный хэшрейт\n",
    "def check_actual_hash_rate():\n",
    "\tglobal actual_hash_rate\n",
    "\ttry:\n",
    "\t\tfrom json.decoder import JSONDecodeError\n",
    "\texcept ImportError:\n",
    "\t\tJSONDecodeError = ValueError\n",
    "\ttry:\n",
    "\t\tresp  = requests.get(url=url_get_hash_rate)\n",
    "\texcept requests.exceptions.RequestException as err:\n",
    "\t\traise ValueError (\"Беда. Совсем никак не могу подключиться к другому серверу. \\n\" + str(err) )\n",
    "\ttry:\n",
    "\t\tactual_hash_rate = resp.json()\n",
    "\texcept JSONDecodeError as err:\n",
    "\t\traise ValueError (\"Беда. Не могу запросить хэшрейт с другого сервера \\n\"  + str(err) )\n",
    "\t\n",
    "\treturn\t\n",
    "check_actual_hash_rate()\n",
    "print(actual_hash_rate)"
   ]
  }
 ],
 "metadata": {
  "kernelspec": {
   "display_name": "Python 3",
   "language": "python",
   "name": "python3"
  },
  "language_info": {
   "codemirror_mode": {
    "name": "ipython",
    "version": 3
   },
   "file_extension": ".py",
   "mimetype": "text/x-python",
   "name": "python",
   "nbconvert_exporter": "python",
   "pygments_lexer": "ipython3",
   "version": "3.6.1"
  }
 },
 "nbformat": 4,
 "nbformat_minor": 2
}
